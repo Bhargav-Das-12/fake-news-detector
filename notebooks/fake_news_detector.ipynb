{
 "cells": [
  {
   "cell_type": "code",
   "execution_count": 5,
   "id": "456d5f12",
   "metadata": {},
   "outputs": [
    {
     "name": "stdout",
     "output_type": "stream",
     "text": [
      "Notebook is ready and basic libraries are loaded\n"
     ]
    }
   ],
   "source": [
    "# Step 1: Import basic libraries\n",
    "import pandas as pd\n",
    "import numpy as np\n",
    "\n",
    "print(\"Notebook is ready and basic libraries are loaded\")\n"
   ]
  },
  {
   "cell_type": "code",
   "execution_count": 6,
   "id": "253f1fa5",
   "metadata": {},
   "outputs": [
    {
     "name": "stdout",
     "output_type": "stream",
     "text": [
      "Fake news samples: 23481\n",
      "Real news samples: 21417\n"
     ]
    }
   ],
   "source": [
    "# Step 2: Load the dataset\n",
    "\n",
    "fake_df = pd.read_csv(r\"C:\\Users\\bvdas\\Desktop\\CODING\\fake_news_detector\\data\\Fake.csv\")\n",
    "real_df = pd.read_csv(r\"C:\\Users\\bvdas\\Desktop\\CODING\\fake_news_detector\\data\\True.csv\")\n",
    "\n",
    "print(\"Fake news samples:\", len(fake_df))\n",
    "print(\"Real news samples:\", len(real_df))"
   ]
  },
  {
   "cell_type": "code",
   "execution_count": 7,
   "id": "ee61cd92",
   "metadata": {},
   "outputs": [
    {
     "name": "stdout",
     "output_type": "stream",
     "text": [
      "Combined dataset shape: (44898, 5)\n",
      "First few rows:\n"
     ]
    },
    {
     "data": {
      "text/html": [
       "<div>\n",
       "<style scoped>\n",
       "    .dataframe tbody tr th:only-of-type {\n",
       "        vertical-align: middle;\n",
       "    }\n",
       "\n",
       "    .dataframe tbody tr th {\n",
       "        vertical-align: top;\n",
       "    }\n",
       "\n",
       "    .dataframe thead th {\n",
       "        text-align: right;\n",
       "    }\n",
       "</style>\n",
       "<table border=\"1\" class=\"dataframe\">\n",
       "  <thead>\n",
       "    <tr style=\"text-align: right;\">\n",
       "      <th></th>\n",
       "      <th>title</th>\n",
       "      <th>label</th>\n",
       "    </tr>\n",
       "  </thead>\n",
       "  <tbody>\n",
       "    <tr>\n",
       "      <th>0</th>\n",
       "      <td>Ben Stein Calls Out 9th Circuit Court: Committ...</td>\n",
       "      <td>0</td>\n",
       "    </tr>\n",
       "    <tr>\n",
       "      <th>1</th>\n",
       "      <td>Trump drops Steve Bannon from National Securit...</td>\n",
       "      <td>1</td>\n",
       "    </tr>\n",
       "    <tr>\n",
       "      <th>2</th>\n",
       "      <td>Puerto Rico expects U.S. to lift Jones Act shi...</td>\n",
       "      <td>1</td>\n",
       "    </tr>\n",
       "    <tr>\n",
       "      <th>3</th>\n",
       "      <td>OOPS: Trump Just Accidentally Confirmed He Le...</td>\n",
       "      <td>0</td>\n",
       "    </tr>\n",
       "    <tr>\n",
       "      <th>4</th>\n",
       "      <td>Donald Trump heads for Scotland to reopen a go...</td>\n",
       "      <td>1</td>\n",
       "    </tr>\n",
       "  </tbody>\n",
       "</table>\n",
       "</div>"
      ],
      "text/plain": [
       "                                               title  label\n",
       "0  Ben Stein Calls Out 9th Circuit Court: Committ...      0\n",
       "1  Trump drops Steve Bannon from National Securit...      1\n",
       "2  Puerto Rico expects U.S. to lift Jones Act shi...      1\n",
       "3   OOPS: Trump Just Accidentally Confirmed He Le...      0\n",
       "4  Donald Trump heads for Scotland to reopen a go...      1"
      ]
     },
     "execution_count": 7,
     "metadata": {},
     "output_type": "execute_result"
    }
   ],
   "source": [
    "# Step 3: Add labels and combine both datasets\n",
    "\n",
    "# Labeling\n",
    "fake_df['label'] = 0  # Fake = 0\n",
    "real_df['label'] = 1  # Real = 1\n",
    "\n",
    "# Combine both datasets\n",
    "data = pd.concat([fake_df, real_df], ignore_index=True)\n",
    "\n",
    "# Shuffle the data so fake and real are mixed\n",
    "data = data.sample(frac=1, random_state=42).reset_index(drop=True)\n",
    "\n",
    "# Quick look\n",
    "print(\"Combined dataset shape:\", data.shape)\n",
    "print(\"First few rows:\")\n",
    "data[['title', 'label']].head()"
   ]
  },
  {
   "cell_type": "code",
   "execution_count": 11,
   "id": "d03bf167",
   "metadata": {},
   "outputs": [
    {
     "name": "stderr",
     "output_type": "stream",
     "text": [
      "[nltk_data] Downloading package stopwords to\n",
      "[nltk_data]     C:\\Users\\bvdas\\AppData\\Roaming\\nltk_data...\n",
      "[nltk_data]   Package stopwords is already up-to-date!\n"
     ]
    },
    {
     "name": "stdout",
     "output_type": "stream",
     "text": [
      "🧹 Cleaned sample:\n",
      "\n",
      "well take long short time since americans kindasorta elected donald trump pussygrabberinchief trump appointed bona fide white nationalist highlevel position perform numerous actions months ago considered extremely unlikely nightmare scenarios latest seems muslim registry media told us trump serious might actually happenunder trump regime muslim immigrants coming united states trump pals call terrorprone countries soon register check regularly government trump adviser kansas secretary state kris \n"
     ]
    }
   ],
   "source": [
    "# Step 4: Clean the text column\n",
    "\n",
    "import re\n",
    "import string\n",
    "import nltk\n",
    "from nltk.corpus import stopwords\n",
    "\n",
    "# Download stopwords (only once)\n",
    "nltk.download('stopwords')\n",
    "\n",
    "# Function to clean each news article\n",
    "def clean_text(text):\n",
    "    text = text.lower()  # lowercase\n",
    "    text = re.sub(r'\\[.*?\\]', '', text)  # remove [text]\n",
    "    text = re.sub(r'https?://\\S+|www\\.\\S+', '', text)  # remove URLs\n",
    "    text = re.sub(r'<.*?>+', '', text)  # remove HTML tags\n",
    "    text = re.sub(r'[%s]' % re.escape(string.punctuation), '', text)  # remove punctuation\n",
    "    text = re.sub(r'\\n', ' ', text)  # remove line breaks\n",
    "    text = re.sub(r'\\w*\\d\\w*', '', text)  # remove words with numbers\n",
    "    # remove stopwords\n",
    "    text = ' '.join(word for word in text.split() if word not in stopwords.words('english'))\n",
    "    return text\n",
    "\n",
    "# Apply to the \"text\" column (news body)\n",
    "data['clean_text'] = data['text'].apply(clean_text)\n",
    "\n",
    "# Show a sample cleaned news article\n",
    "print(\"🧹 Cleaned sample:\\n\")\n",
    "print(data['clean_text'][0][:500])"
   ]
  },
  {
   "cell_type": "code",
   "execution_count": 12,
   "id": "9d8f3cdf",
   "metadata": {},
   "outputs": [
    {
     "name": "stdout",
     "output_type": "stream",
     "text": [
      "Cleaned dataset saved as 'cleaned_news_data.csv'\n"
     ]
    }
   ],
   "source": [
    "# Save the cleaned dataset to avoid repeating this long step\n",
    "data.to_csv(\"cleaned_news_data.csv\", index=False)\n",
    "print(\"Cleaned dataset saved as 'cleaned_news_data.csv'\")"
   ]
  },
  {
   "cell_type": "code",
   "execution_count": 14,
   "id": "3fbd0f0d",
   "metadata": {},
   "outputs": [
    {
     "name": "stdout",
     "output_type": "stream",
     "text": [
      " TF-IDF shape: (2000, 5000)\n"
     ]
    }
   ],
   "source": [
    "# ✅ Step 5: Convert text to vectors using TF-IDF\n",
    "\n",
    "from sklearn.feature_extraction.text import TfidfVectorizer\n",
    "\n",
    "# Create the TF-IDF vectorizer\n",
    "tfidf = TfidfVectorizer(max_features=5000)  # limit to top 5000 words for performance\n",
    "\n",
    "# Fit and transform the 'clean_text' column\n",
    "X = tfidf.fit_transform(data['clean_text'])\n",
    "\n",
    "# Output the shape of the TF-IDF matrix\n",
    "print(\" TF-IDF shape:\", X.shape)"
   ]
  },
  {
   "cell_type": "code",
   "execution_count": 15,
   "id": "749ade16",
   "metadata": {},
   "outputs": [
    {
     "name": "stdout",
     "output_type": "stream",
     "text": [
      "Train shape: (1600, 5000)\n",
      "Test shape: (400, 5000)\n"
     ]
    }
   ],
   "source": [
    "from sklearn.model_selection import train_test_split\n",
    "\n",
    "# Step 6.1: Labels (target output)\n",
    "y = data['label']  # 0 = fake, 1 = real\n",
    "\n",
    "# Step 6.2: Split data into training (80%) and testing (20%)\n",
    "X_train, X_test, y_train, y_test = train_test_split(\n",
    "    X, y, test_size=0.2, random_state=42\n",
    ")\n",
    "\n",
    "# Print the shapes of the splits\n",
    "print(\"Train shape:\", X_train.shape)\n",
    "print(\"Test shape:\", X_test.shape)"
   ]
  },
  {
   "cell_type": "code",
   "execution_count": 16,
   "id": "481854ee",
   "metadata": {},
   "outputs": [
    {
     "name": "stdout",
     "output_type": "stream",
     "text": [
      " Accuracy: 0.96\n",
      "\n",
      "Classification Report:\n",
      "               precision    recall  f1-score   support\n",
      "\n",
      "           0       0.97      0.96      0.96       211\n",
      "           1       0.95      0.96      0.96       189\n",
      "\n",
      "    accuracy                           0.96       400\n",
      "   macro avg       0.96      0.96      0.96       400\n",
      "weighted avg       0.96      0.96      0.96       400\n",
      "\n"
     ]
    }
   ],
   "source": [
    "from sklearn.linear_model import LogisticRegression\n",
    "from sklearn.metrics import accuracy_score, classification_report\n",
    "\n",
    "# Step 7.1: Create the model\n",
    "model = LogisticRegression(max_iter=1000)  # Increase max_iter to ensure convergence\n",
    "\n",
    "# Step 7.2: Train it on the training data\n",
    "model.fit(X_train, y_train)\n",
    "\n",
    "# Step 7.3: Predict on the test set\n",
    "y_pred = model.predict(X_test)\n",
    "\n",
    "# Step 7.4: Evaluate the model\n",
    "print(\" Accuracy:\", accuracy_score(y_test, y_pred))\n",
    "print(\"\\nClassification Report:\\n\", classification_report(y_test, y_pred))"
   ]
  },
  {
   "cell_type": "code",
   "execution_count": 17,
   "id": "0cd857d0",
   "metadata": {},
   "outputs": [
    {
     "name": "stdout",
     "output_type": "stream",
     "text": [
      " Model saved as fake_news_model.pkl\n",
      "TF-IDF vectorizer saved as tfidf_vectorizer.pkl\n",
      "\n",
      "Prediction for sample news:\n",
      " Real News\n"
     ]
    }
   ],
   "source": [
    "import joblib\n",
    "\n",
    "# Step 8.1: Save the trained model\n",
    "joblib.dump(model, \"fake_news_model.pkl\")\n",
    "print(\" Model saved as fake_news_model.pkl\")\n",
    "\n",
    "# Step 8.2: Save the TF-IDF vectorizer too\n",
    "joblib.dump(tfidf, \"tfidf_vectorizer.pkl\")\n",
    "print(\"TF-IDF vectorizer saved as tfidf_vectorizer.pkl\")\n",
    "\n",
    "# Step 8.3: Try a custom prediction\n",
    "def predict_news(text):\n",
    "    # Clean the text like before\n",
    "    cleaned = clean_text(text)\n",
    "    # Convert to TF-IDF\n",
    "    vector = tfidf.transform([cleaned])\n",
    "    # Predict\n",
    "    prediction = model.predict(vector)\n",
    "    return \" Real News\" if prediction[0] == 1 else \"🚨 Fake News\"\n",
    "\n",
    "# Example usage\n",
    "sample_news = \"The prime minister has announced a new economic policy today.\"\n",
    "print(\"\\nPrediction for sample news:\")\n",
    "print(predict_news(sample_news))"
   ]
  },
  {
   "cell_type": "code",
   "execution_count": 21,
   "id": "cae967f3",
   "metadata": {},
   "outputs": [
    {
     "data": {
      "image/png": "[encoded data removed]",
      "text/plain": [
       "<Figure size 800x600 with 1 Axes>"
      ]
     },
     "metadata": {},
     "output_type": "display_data"
    }
   ],
   "source": [
    "from sklearn.metrics import classification_report\n",
    "import matplotlib.pyplot as plt\n",
    "import seaborn as sns\n",
    "import numpy as np\n",
    "\n",
    "# y_test: true labels | y_pred: predicted labels\n",
    "report = classification_report(y_test, y_pred, output_dict=True)\n",
    "\n",
    "# Extract precision and recall for each class (0 = Fake, 1 = Real)\n",
    "classes = ['Fake News (0)', 'Real News (1)']\n",
    "precision = [report['0']['precision'], report['1']['precision']]\n",
    "recall = [report['0']['recall'], report['1']['recall']]\n",
    "\n",
    "# Plot\n",
    "x = np.arange(len(classes))\n",
    "width = 0.35\n",
    "\n",
    "plt.figure(figsize=(8, 6))\n",
    "plt.bar(x - width/2, precision, width, label='Precision', color='skyblue')\n",
    "plt.bar(x + width/2, recall, width, label='Recall', color='lightgreen')\n",
    "\n",
    "plt.ylabel('Score')\n",
    "plt.title('Precision and Recall by Class')\n",
    "plt.xticks(x, classes)\n",
    "plt.ylim(0, 1.05)\n",
    "plt.legend()\n",
    "plt.tight_layout()\n",
    "plt.show()"
   ]
  },
  {
   "cell_type": "code",
   "execution_count": 22,
   "id": "0c39332e",
   "metadata": {},
   "outputs": [
    {
     "data": {
      "image/png": "[encoded data removed]",
      "text/plain": [
       "<Figure size 640x480 with 2 Axes>"
      ]
     },
     "metadata": {},
     "output_type": "display_data"
    }
   ],
   "source": [
    "from sklearn.metrics import confusion_matrix, ConfusionMatrixDisplay\n",
    "\n",
    "# Compute confusion matrix\n",
    "cm = confusion_matrix(y_test, y_pred)\n",
    "\n",
    "# Plot\n",
    "disp = ConfusionMatrixDisplay(confusion_matrix=cm, display_labels=[\"Fake\", \"Real\"])\n",
    "disp.plot(cmap='Blues')\n",
    "plt.title(\"Confusion Matrix\")\n",
    "plt.show()"
   ]
  },
  {
   "cell_type": "code",
   "execution_count": null,
   "id": "c3f627ec",
   "metadata": {},
   "outputs": [
    {
     "name": "stdout",
     "output_type": "stream",
     "text": [
      "News: Government launches new health care scheme to help underprivileged.\n",
      "Prediction: Fake\n",
      "------------------------------------------------------------\n",
      "News: Breaking: Celebrity found to be a reptilian alien in disguise!\n",
      "Prediction: Fake\n",
      "------------------------------------------------------------\n",
      "News: NASA confirms presence of water on the Moon.\n",
      "Prediction: Fake\n",
      "------------------------------------------------------------\n"
     ]
    }
   ],
   "source": [
    "# Load saved model and vectorizer\n",
    "import joblib\n",
    "model = joblib.load(r\"C:\\Users\\bvdas\\Desktop\\CODING\\fake_news_detector\\notebooks\\fake_news_model.pkl\")\n",
    "vectorizer = joblib.load(r\"C:\\Users\\bvdas\\Desktop\\CODING\\fake_news_detector\\notebooks\\tfidf_vectorizer.pkl\")\n",
    "\n",
    "# Example news articles for prediction:\n",
    "new_articles = [\n",
    "    \"Government launches new health care scheme to help underprivileged.\",\n",
    "    \"Breaking: Celebrity found to be a reptilian alien in disguise!\",\n",
    "    \"NASA confirms presence of water on the Moon.\",\n",
    "]\n",
    "\n",
    "# Preprocess same as training \n",
    "X_new = vectorizer.transform(new_articles)\n",
    "predictions = model.predict(X_new)\n",
    "\n",
    "# Display results\n",
    "for i, text in enumerate(new_articles):\n",
    "    label = \"Real\" if predictions[i] == 1 else \"Fake\"\n",
    "    print(f\"News: {text}\\nPrediction: {label}\\n{'-'*60}\")"
   ]
  }
 ],
 "metadata": {
  "kernelspec": {
   "display_name": ".venv",
   "language": "python",
   "name": "python3"
  },
  "language_info": {
   "codemirror_mode": {
    "name": "ipython",
    "version": 3
   },
   "file_extension": ".py",
   "mimetype": "text/x-python",
   "name": "python",
   "nbconvert_exporter": "python",
   "pygments_lexer": "ipython3",
   "version": "3.11.8"
  }
 },
 "nbformat": 4,
 "nbformat_minor": 5
}
